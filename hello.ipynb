{
 "cells": [
  {
   "cell_type": "markdown",
   "id": "7754f0c1",
   "metadata": {},
   "source": [
    "# Start of Code"
   ]
  },
  {
   "cell_type": "code",
   "execution_count": 1,
   "id": "4fd9adb7",
   "metadata": {},
   "outputs": [
    {
     "name": "stdout",
     "output_type": "stream",
     "text": [
      "hello world\n"
     ]
    }
   ],
   "source": [
    "a='hello world'\n",
    "print(a)"
   ]
  },
  {
   "cell_type": "markdown",
   "id": "b750574f",
   "metadata": {},
   "source": [
    "# Print of code"
   ]
  },
  {
   "cell_type": "code",
   "execution_count": null,
   "id": "0f675a35",
   "metadata": {},
   "outputs": [],
   "source": [
    "print('M Rizwan Asad')\n",
    "print('a '+ 'Muhammad Rizwan Asad')\n",
    "print(a+'Rizwan Asad Ullah')\n",
    "print(a+'Hamza, Fatimah, Sara, Aroosa, Rizwan')"
   ]
  }
 ],
 "metadata": {
  "kernelspec": {
   "display_name": "Python 3",
   "language": "python",
   "name": "python3"
  },
  "language_info": {
   "codemirror_mode": {
    "name": "ipython",
    "version": 3
   },
   "file_extension": ".py",
   "mimetype": "text/x-python",
   "name": "python",
   "nbconvert_exporter": "python",
   "pygments_lexer": "ipython3",
   "version": "3.13.7"
  }
 },
 "nbformat": 4,
 "nbformat_minor": 5
}
